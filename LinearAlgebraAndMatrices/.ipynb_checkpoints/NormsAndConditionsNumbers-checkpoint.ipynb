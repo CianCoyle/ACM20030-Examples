{
 "cells": [
  {
   "cell_type": "markdown",
   "metadata": {},
   "source": [
    "# Norms, conditions numbers and Eigensystems\n",
    "\n",
    "In linear-algebra calculations, we are sometimes very unfortunate and have to solve a problem like $Ax = b$ (given fixed $A$), where small changes in $b$ produce extremely large changes in $x$. Such problems are said to be **ill-conditioned**.\n",
    "\n",
    "This notebook explores this phenomenon. Along the way we will have to calculate condition numbers and eigenvalues."
   ]
  },
  {
   "cell_type": "markdown",
   "metadata": {},
   "source": [
    "## Preliminaries\n",
    "\n",
    "Let's load numpy as usual, and the linear algebra package from numpy as we will find some functions in it useful. We also use the `GaussianElimination()` from one of the other notebooks and define the $L_2$-norm"
   ]
  },
  {
   "cell_type": "code",
   "execution_count": 1,
   "metadata": {},
   "outputs": [],
   "source": [
    "import numpy as np\n",
    "from numpy import linalg as la"
   ]
  },
  {
   "cell_type": "code",
   "execution_count": 2,
   "metadata": {},
   "outputs": [],
   "source": [
    "def GaussianElimination(A, b):\n",
    "    n = A.shape[1]\n",
    "    \n",
    "    # Append the vector b as a column to the matrix A\n",
    "    A1 = np.c_[A,b]\n",
    "    \n",
    "    i = 0\n",
    "    while i < n - 1:\n",
    "        j = i+1\n",
    "        while j < n:\n",
    "            A1[j, i+1:] = A1[j, i+1:] - A1[i, i+1:]*A1[j,i]/A1[i,i]\n",
    "            j += 1\n",
    "        i += 1\n",
    "        \n",
    "    x = np.zeros(n)\n",
    "    \n",
    "    i = n-1\n",
    "    while i >= 0:\n",
    "        j = i\n",
    "        x[i] = A1[i,n]\n",
    "        while j < n-1:\n",
    "            x[i] -= A1[i,j+1]*x[j+1]\n",
    "            j += 1\n",
    "        x[i] = x[i]/A1[i,i]\n",
    "        i -= 1\n",
    "    \n",
    "    return x"
   ]
  },
  {
   "cell_type": "code",
   "execution_count": 3,
   "metadata": {},
   "outputs": [],
   "source": [
    "def MatrixInverseViaGaussianElimination(A):\n",
    "    n = A.shape[1]\n",
    "    \n",
    "    A1 = np.hstack((A,np.identity(n)))\n",
    "    \n",
    "    i = 0\n",
    "    while i < n:\n",
    "        j = 0\n",
    "        while j < n:\n",
    "            if(j == i): \n",
    "                j += 1\n",
    "                continue\n",
    "            A1[j] = (A1[j] - A1[i]*A1[j,i]/A1[i,i])\n",
    "            A1[j] = A1[j]/A1[j,j]\n",
    "            j += 1\n",
    "        i += 1\n",
    "    \n",
    "    return A1[:,n:2*n]"
   ]
  },
  {
   "cell_type": "code",
   "execution_count": 4,
   "metadata": {},
   "outputs": [],
   "source": [
    "def L2Norm(v):\n",
    "    return la.norm(v,2)"
   ]
  },
  {
   "cell_type": "markdown",
   "metadata": {},
   "source": [
    "# Norms\n",
    "\n",
    "The $L^2$-norm of a matrix $A$ is formally defined by\n",
    "\n",
    "$$\\lVert A \\rVert_2 = \\sup_{x\\neq0}\\frac{\\lVert Ax \\rVert_2}{\\lVert x \\rVert} $$\n",
    "\n",
    "For practical calculation, this is not a particularly useful definition. We derived a more useful formula:\n",
    "\n",
    "$$ \\lVert A \\rVert_2 = \\sqrt{\\lambda_\\text{max}} $$\n",
    "\n",
    "where $\\lambda_\\text{max}$ is the maximum eigenvector of $A A^T$.\n",
    "\n",
    "Let's check that NumPy's definitions agree with these formula."
   ]
  },
  {
   "cell_type": "code",
   "execution_count": 31,
   "metadata": {},
   "outputs": [
    {
     "data": {
      "text/plain": [
       "-2.220446049250313e-15"
      ]
     },
     "execution_count": 31,
     "metadata": {},
     "output_type": "execute_result"
    }
   ],
   "source": [
    "A = np.random.rand(6,6) \n",
    "\n",
    "lmax = np.max(la.eig(A@A.T)[0])\n",
    "\n",
    "la.norm(A,2) - np.sqrt(lmax)"
   ]
  },
  {
   "cell_type": "markdown",
   "metadata": {},
   "source": [
    "Note that by default NumPy's `la.norm()` function computes the *Frobenius* norm for matrices. If you want the $L^2$-norm you need to call it as `la.norm(A,2)`, as above."
   ]
  },
  {
   "cell_type": "markdown",
   "metadata": {},
   "source": [
    "## Ill-condition system - example case\n",
    "\n",
    "Let's look at an example where the matrix $A$ is ill-conditioned"
   ]
  },
  {
   "cell_type": "code",
   "execution_count": 6,
   "metadata": {},
   "outputs": [
    {
     "name": "stdout",
     "output_type": "stream",
     "text": [
      "[1. 1.]\n"
     ]
    }
   ],
   "source": [
    "A = np.array([[1.002,1],[1,0.998]])\n",
    "b = np.array([2.002,1.998])\n",
    "\n",
    "x = GaussianElimination(A,b)\n",
    "print(x)"
   ]
  },
  {
   "cell_type": "markdown",
   "metadata": {},
   "source": [
    "Slightly perturbing $b$ causes a huge change in the value of $x$"
   ]
  },
  {
   "cell_type": "code",
   "execution_count": 7,
   "metadata": {},
   "outputs": [
    {
     "name": "stdout",
     "output_type": "stream",
     "text": [
      "[-23.95  26.  ]\n"
     ]
    }
   ],
   "source": [
    "bp = np.array([2.0021,1.998])\n",
    "\n",
    "xp = GaussianElimination(A,bp)\n",
    "print(xp)"
   ]
  },
  {
   "cell_type": "code",
   "execution_count": 8,
   "metadata": {
    "scrolled": false
   },
   "outputs": [
    {
     "name": "stdout",
     "output_type": "stream",
     "text": [
      "Change in b = 0.0035%\n",
      "Change in x = 2497.50%\n"
     ]
    }
   ],
   "source": [
    "print(\"Change in b = %.4f%%\" % (100*L2Norm(bp-b)/L2Norm(b)))\n",
    "print(\"Change in x = %.2f%%\" % (100*L2Norm(xp-x)/L2Norm(x)))"
   ]
  },
  {
   "cell_type": "markdown",
   "metadata": {},
   "source": [
    "## Condition number\n",
    "\n",
    "The condition number of a matrix $A$ is defined as \n",
    "\n",
    "$$ \\kappa(A) = \\lVert A \\rVert_2 \\lVert A^{-1} \\rVert_2$$\n",
    "\n",
    "We learned in the lectures that another practical way to compute this is via\n",
    "\n",
    "$$\\kappa(A) = \\sqrt{\\frac{\\lambda_\\text{max}}{\\lambda_\\text{min}}} $$\n",
    "\n",
    "where $\\lambda_\\text{min/max}$ is the maximum eigenvalue of $A A^T$.\n",
    "\n",
    "Let's use these two methods along with NumPy's built in method `la.cond()`"
   ]
  },
  {
   "cell_type": "code",
   "execution_count": 32,
   "metadata": {},
   "outputs": [],
   "source": [
    "A = np.random.rand(6,6)"
   ]
  },
  {
   "cell_type": "code",
   "execution_count": 33,
   "metadata": {},
   "outputs": [],
   "source": [
    "eigenvalues = la.eig(A.T@A)[0]\n",
    "lmax = np.max(eigenvalues)\n",
    "lmin = np.min(eigenvalues)"
   ]
  },
  {
   "cell_type": "code",
   "execution_count": 34,
   "metadata": {},
   "outputs": [
    {
     "name": "stdout",
     "output_type": "stream",
     "text": [
      "Condition number computed via norm definition:\t 32.67118439809067\n",
      "Condition number comuted via eigenvalue formula: 32.67118439809083\n",
      "Condition number comuted via la.cond(A,2):\t 32.67118439809068\n"
     ]
    }
   ],
   "source": [
    "print(\"Condition number computed via norm definition:\\t\", la.norm(A,2)*la.norm(la.inv(A),2))\n",
    "print(\"Condition number comuted via eigenvalue formula:\", np.sqrt(lmax/lmin))\n",
    "print(\"Condition number comuted via la.cond(A,2):\\t\", la.cond(A,2))"
   ]
  },
  {
   "cell_type": "code",
   "execution_count": null,
   "metadata": {},
   "outputs": [],
   "source": []
  }
 ],
 "metadata": {
  "kernelspec": {
   "display_name": "Python 3",
   "language": "python",
   "name": "python3"
  },
  "language_info": {
   "codemirror_mode": {
    "name": "ipython",
    "version": 3
   },
   "file_extension": ".py",
   "mimetype": "text/x-python",
   "name": "python",
   "nbconvert_exporter": "python",
   "pygments_lexer": "ipython3",
   "version": "3.7.4"
  }
 },
 "nbformat": 4,
 "nbformat_minor": 2
}
