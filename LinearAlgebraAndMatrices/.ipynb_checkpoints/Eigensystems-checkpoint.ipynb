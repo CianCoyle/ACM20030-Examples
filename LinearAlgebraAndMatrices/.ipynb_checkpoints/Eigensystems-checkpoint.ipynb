{
 "cells": [
  {
   "cell_type": "markdown",
   "metadata": {},
   "source": [
    "# Eigensystems\n",
    "\n",
    "This notebook explores methods for computing eigenvalues and eigenvectors, i.e, finding $x$ and $\\lambda$ that satisfy\n",
    "\n",
    "$$ A x = \\lambda x $$\n",
    "\n",
    "For general $A$ this can be quite challenging so we restrict our attention to **symmetric matrices** $A \\in \\mathbb{R}^{n\\times n}$.\n",
    "\n",
    "There are a huge range of the methods for computing or estimating eigenvalues/eigenvectors. We will look at a few of the simpler ones in this course."
   ]
  },
  {
   "cell_type": "code",
   "execution_count": 1,
   "metadata": {},
   "outputs": [],
   "source": [
    "import numpy as np\n",
    "from numpy import linalg as la"
   ]
  },
  {
   "cell_type": "markdown",
   "metadata": {},
   "source": [
    "# A test eigensystem\n",
    "\n",
    "For the examples below I use the following matrix as an example. As a check on our methods I will also use NumPy's built in methods to compute the eigenvalues and eigenvectors"
   ]
  },
  {
   "cell_type": "code",
   "execution_count": 2,
   "metadata": {},
   "outputs": [
    {
     "name": "stdout",
     "output_type": "stream",
     "text": [
      "Eigenvalues = [3.41421356 2.         0.58578644]\n",
      "Eigenvectors =\n",
      " [[-5.00000000e-01 -7.07106781e-01  5.00000000e-01]\n",
      " [ 7.07106781e-01  4.05925293e-16  7.07106781e-01]\n",
      " [-5.00000000e-01  7.07106781e-01  5.00000000e-01]]\n"
     ]
    }
   ],
   "source": [
    "A = np.array([[2, -1, 0],[-1, 2, -1],[0, -1, 2]])\n",
    "\n",
    "eigenSystem = la.eig(A)\n",
    "print(\"Eigenvalues =\", eigenSystem[0])\n",
    "print(\"Eigenvectors =\\n\", eigenSystem[1])   # The eigen vectors are the columns of this matrix"
   ]
  },
  {
   "cell_type": "code",
   "execution_count": 3,
   "metadata": {},
   "outputs": [
    {
     "name": "stdout",
     "output_type": "stream",
     "text": [
      "The maximum eigenvalue is: 3.4142135623730914\n",
      "The second  eigenvalue is: 1.9999999999999998\n",
      "The minimum eigenvalue is: 0.5857864376269049\n"
     ]
    }
   ],
   "source": [
    "lmaxCheck = np.max(eigenSystem[0])\n",
    "lsecondCheck = np.sort(eigenSystem[0])[1]\n",
    "lminCheck = np.min(eigenSystem[0])\n",
    "\n",
    "print(\"The maximum eigenvalue is:\", lmaxCheck)\n",
    "print(\"The second  eigenvalue is:\", lsecondCheck)\n",
    "print(\"The minimum eigenvalue is:\", lminCheck)"
   ]
  },
  {
   "cell_type": "markdown",
   "metadata": {},
   "source": [
    "# Maximum eigenvalue via the power method\n",
    "\n",
    "Here we implemenet the power method for computing the maximum eigenvalue of a matrix and the associated eigenvector.\n",
    "\n",
    "Also check out this [nice video](https://www.youtube.com/watch?v=yBiQh1vsCLU) showing the method in action"
   ]
  },
  {
   "cell_type": "code",
   "execution_count": 149,
   "metadata": {},
   "outputs": [],
   "source": [
    "def MaxEigenvalue(A, err):\n",
    "    (m,n) = A.shape\n",
    "    if(m != n):\n",
    "        print(\"Matrix must be square\")\n",
    "        return\n",
    "    \n",
    "    # Create a random initial vector\n",
    "    x = np.random.rand(m)\n",
    "    \n",
    "    lam = 0.1\n",
    "    lamprev = 1\n",
    "    while np.abs(1-lam/lamprev) > err:\n",
    "        Ax      = A@x\n",
    "        lamprev = lam\n",
    "        lam = la.norm(Ax,2)/la.norm(x,2)\n",
    "        x = Ax\n",
    "        \n",
    "    x = x/la.norm(x)\n",
    "    return (lam,x)"
   ]
  },
  {
   "cell_type": "code",
   "execution_count": 150,
   "metadata": {},
   "outputs": [
    {
     "name": "stdout",
     "output_type": "stream",
     "text": [
      "Check the eigenvalue equation is satisfied: [ 5.60582354e-08 -7.54951657e-15 -5.60582254e-08] \n",
      "\n",
      "Comparison of eigenvalue with NumPy: 3.4142135623730847 -6.661338147750939e-15 \n",
      "\n",
      "Comparison of eigenvector with NumPy: [-3.96391552e-08 -1.11022302e-15  3.96391537e-08]\n"
     ]
    }
   ],
   "source": [
    "largestEigen = MaxEigenvalue(A, 1e-14)\n",
    "\n",
    "# Check that eigenvalue and eigenvalue satisfy the eigen equation\n",
    "print(\"Check the eigenvalue equation is satisfied:\", np.dot(A,largestEigen[1]) - largestEigen[0] *largestEigen[1],\"\\n\")\n",
    "\n",
    "# Compare the eigenvalue to NumPy's result\n",
    "print(\"Comparison of eigenvalue with NumPy:\", largestEigen[0], largestEigen[0]- lmaxCheck,\"\\n\")\n",
    "\n",
    "# Compare the eigenvector to NumPy's result\n",
    "print(\"Comparison of eigenvector with NumPy:\", np.abs(largestEigen[1])-np.abs(eigenSystem[1][:,0]))"
   ]
  },
  {
   "cell_type": "markdown",
   "metadata": {},
   "source": [
    "# Minimum eigenvalue for an invertible matrix\n",
    "\n",
    "If the matrix in question is invertable and has a small condition number, one way to find the smallest eigenvalue of a matrix $A$ is to find the largest eigenvalue of $A^{-1}$ and take the reciprical. This method is not very useful if we are trying to calcualte a condition number via the $L^2$ norm (as we only know if the matrix can be inverted without error by computing the condition number, but we need to compute the condition number to know if it is safe to invert the matrix numerically).\n",
    "\n",
    "Assuming we know it is safe to numerically invert the matrix, we could invert it using the GaussianElimination function we looked at in another notebook. Here I will just use NumPy's built in function."
   ]
  },
  {
   "cell_type": "code",
   "execution_count": 151,
   "metadata": {},
   "outputs": [
    {
     "name": "stdout",
     "output_type": "stream",
     "text": [
      "0.5857864376269051 2.220446049250313e-16\n"
     ]
    }
   ],
   "source": [
    "lmin = 1/MaxEigenvalue(la.inv(A), 1e-14)[0]\n",
    "\n",
    "# Compare the result to NumPy's calculation\n",
    "print(lmin, lmin - lminCheck)"
   ]
  },
  {
   "cell_type": "markdown",
   "metadata": {},
   "source": [
    "#  Minimum eigenvalue for symmetric, positive definite matrices\n",
    "\n",
    "If we have a symmetric matrix which is positive definite then we can find the minimum eigenvalue without inverting the matrix using the algorithm below. In the lectures we proved that $A^T A$ has these properties.\n",
    "\n",
    "If we define \n",
    "\n",
    "$$ B = A -\\lambda_\\max I$$\n",
    "\n",
    "Then so long as $A$ is positive definite the max eigenvalue of $B$ plus $\\lambda_\\max$ will be the minimum eigenvalue of $A$. Thus we can find the minimum eigenvalue of $A$ by finding the maximum eigenvalue of $B$ using the power method.\n",
    "\n",
    "This method is suitable for calculating the condition number of a matrix."
   ]
  },
  {
   "cell_type": "code",
   "execution_count": 155,
   "metadata": {},
   "outputs": [],
   "source": [
    "def MinEigenvalueSymmetricPositiveDefinite(A, err):\n",
    "    \n",
    "    (m,n) = A.shape\n",
    "    if(m != n):\n",
    "        print(\"Matrix must be square\")\n",
    "        return\n",
    "    \n",
    "    lmax = MaxEigenvalue(A,err)[0]\n",
    "    B = A - np.identity(m)*lmax\n",
    "    \n",
    "    eigBmax = MaxEigenvalue(B,err)\n",
    "    \n",
    "    return (-eigBmax[0] + lmax, eigBmax[1])"
   ]
  },
  {
   "cell_type": "code",
   "execution_count": 156,
   "metadata": {},
   "outputs": [
    {
     "name": "stdout",
     "output_type": "stream",
     "text": [
      "[-2.66289735e-08  2.33146835e-15  2.66289767e-08] \n",
      "\n",
      "Check against NumPy's result: 0.5857864376269082 3.3306690738754696e-15\n"
     ]
    }
   ],
   "source": [
    "smallEigen = MinEigenvalueSymmetricPositiveDefinite(A, 1e-14)\n",
    "\n",
    "# Check that eigenvalue and eigenvalue satisfy the eigen equation\n",
    "print(np.dot(A,smallEigen[1]) - smallEigen[0] *smallEigen[1],\"\\n\")\n",
    "\n",
    "# Check the eigenvalue agrees with NumPy's result\n",
    "print(\"Check against NumPy's result:\", smallEigen[0], smallEigen[0] - lminCheck)"
   ]
  },
  {
   "cell_type": "markdown",
   "metadata": {},
   "source": [
    "# Hotelling's deflation: finding the second largest eigenvalue\n",
    "\n",
    "We've seen how to find the maximum and minimum eigenvalues. What about other eigenvalues? In general if you are looking for multiple eigenvalues there are a range of other methods. Here we look at a method for finding the second largest eigenvalue. This  method only works for symmetric matrices.\n",
    "\n",
    "In this algorthm we construct the matrix\n",
    "\n",
    "$$ B = A - \\lambda_1 e_1\\otimes e_1$$\n",
    "\n",
    "where $\\lambda_1$ is the largest eigenvalue, $e_1$ is the corresponding (unit normalized) eigenvector, and $\\otimes$ is the outer product.\n",
    "\n",
    "The matrix $B$ has the same eigenvectors as $A$, and the same eigenvalues except the largest one has been replaced by 0. Thus if we use the power method to find the largest eigenvalue of $B$, this will be the second largest eigenvalue of $A$."
   ]
  },
  {
   "cell_type": "code",
   "execution_count": 169,
   "metadata": {},
   "outputs": [],
   "source": [
    "maxEigen = MaxEigenvalue(A, 1e-14)\n",
    "l1 = maxEigen[0]\n",
    "e1 = maxEigen[1]"
   ]
  },
  {
   "cell_type": "code",
   "execution_count": 170,
   "metadata": {},
   "outputs": [],
   "source": [
    "B = A - l1*np.outer(e1, e1)"
   ]
  },
  {
   "cell_type": "code",
   "execution_count": 182,
   "metadata": {},
   "outputs": [
    {
     "name": "stdout",
     "output_type": "stream",
     "text": [
      "Comparison with NumPy's eigenvalue: 1.9999999999999385 -6.128431095930864e-14\n",
      "Comparison with NumPy's eigenvector: [-1.00790811e-07  2.53592232e-08  1.00790796e-07]\n"
     ]
    }
   ],
   "source": [
    "lsecond = MaxEigenvalue(B, 1e-12)\n",
    "\n",
    "# Compare against NumPy's results\n",
    "print(\"Comparison with NumPy's eigenvalue:\", lsecond[0], lsecond[0] - lsecondCheck)\n",
    "print(\"Comparison with NumPy's eigenvector:\", np.abs(lsecond[1]) - np.abs(eigenSystem[1][:,1]))"
   ]
  },
  {
   "cell_type": "markdown",
   "metadata": {},
   "source": [
    "If you like you can apply the method again to find the third eigenvalue. If you are looking to find many eigenvalues this is not recommended (numerical round off will start to cause problems). Instead use methods like the [QR algorithm](https://en.wikipedia.org/wiki/QR_algorithm)."
   ]
  },
  {
   "cell_type": "code",
   "execution_count": null,
   "metadata": {},
   "outputs": [],
   "source": []
  }
 ],
 "metadata": {
  "kernelspec": {
   "display_name": "Python 3",
   "language": "python",
   "name": "python3"
  },
  "language_info": {
   "codemirror_mode": {
    "name": "ipython",
    "version": 3
   },
   "file_extension": ".py",
   "mimetype": "text/x-python",
   "name": "python",
   "nbconvert_exporter": "python",
   "pygments_lexer": "ipython3",
   "version": "3.7.4"
  }
 },
 "nbformat": 4,
 "nbformat_minor": 2
}
