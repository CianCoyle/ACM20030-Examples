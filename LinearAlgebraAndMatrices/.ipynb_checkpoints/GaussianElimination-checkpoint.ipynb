{
 "cells": [
  {
   "cell_type": "markdown",
   "metadata": {},
   "source": [
    "# Gaussian Elimination\n",
    "\n",
    "We want to solve systems of equations of the form \n",
    "\n",
    "$$A x = b$$\n",
    "\n",
    "where $A$ is an $n\\times n$ matrix of known values, $b$ is a vector of length $n$ of known values and $x$ is a vector of length $n$ of unknown values.\n",
    "\n",
    "We can solve this problem by expliciting finding the inverse matrix, $A^{-1}$. We saw in the lectures that if we use the matrix of cofactors method this is very inefficient, as the number of operations required grows as $n!$.\n",
    "\n",
    "A more efficient method is Gaussian elimination. This notebook implements a version of this algorithm. The code below work on any sized matrix."
   ]
  },
  {
   "cell_type": "code",
   "execution_count": 1,
   "metadata": {},
   "outputs": [],
   "source": [
    "import numpy as np"
   ]
  },
  {
   "cell_type": "code",
   "execution_count": 2,
   "metadata": {},
   "outputs": [],
   "source": [
    "def GaussianElimination(A, b, verboseLevel=0):\n",
    "    n = A.shape[1]\n",
    "    \n",
    "    # Append the vector b as a column to the matrix A\n",
    "    A1 = np.c_[A,b]\n",
    "    \n",
    "    if(verboseLevel >=1): print(\"A1 matrix =\\n\", A1, \"\\n\")\n",
    "\n",
    "    i = 0\n",
    "    while i < n - 1:\n",
    "        j = i+1\n",
    "        while j < n:\n",
    "            tmp = A1[i]*A1[j,i]/A1[i,i]\n",
    "            if(verboseLevel >= 2): print(\"Row to subtract from a_%d\" %j,\"=\", tmp)\n",
    "            A1[j] = A1[j] - tmp\n",
    "            j += 1\n",
    "            \n",
    "        if(verboseLevel >= 1): print(\"\\nNew A1 matrix =\\n\", A1, \"\\n\")\n",
    "        i += 1\n",
    "        \n",
    "    # The matrix is now in upper-triangular form\n",
    "    # Now we back substitute to find x\n",
    "    \n",
    "    x = np.zeros(n)\n",
    "    \n",
    "    i = n-1\n",
    "    while i >= 0:\n",
    "        j = i\n",
    "        x[i] = A1[i,n]\n",
    "        while j < n-1:\n",
    "            x[i] -= A1[i,j+1]*x[j+1]\n",
    "            j += 1\n",
    "        x[i] = x[i]/A1[i,i]\n",
    "        i -= 1\n",
    "    \n",
    "    return x"
   ]
  },
  {
   "cell_type": "markdown",
   "metadata": {},
   "source": [
    "Let's first test the code on a $3\\times 3$ matrix. I found testing on a small matrix like this was very useful to debug the code (it takes a while to get all the indexing correct)."
   ]
  },
  {
   "cell_type": "code",
   "execution_count": 3,
   "metadata": {},
   "outputs": [
    {
     "name": "stdout",
     "output_type": "stream",
     "text": [
      "A =\n",
      " [[1. 2. 3.]\n",
      " [5. 6. 7.]\n",
      " [1. 4. 5.]]\n",
      "\n",
      "b = [3 4 5]\n"
     ]
    }
   ],
   "source": [
    "# Define a matrix A, and a vector b\n",
    "A1 = np.array([[1, 2, 3], [5, 6, 7], [1, 4, 5]], dtype='float')\n",
    "b1 = np.array([3, 4 , 5])\n",
    "\n",
    "# print out A and b (notice that '\\n' creates a new line)\n",
    "print(\"A =\\n\", A1)\n",
    "print(\"\\nb =\", b1)"
   ]
  },
  {
   "cell_type": "markdown",
   "metadata": {},
   "source": [
    "The final argument to `GassianElimination()` is the `verboseLevel`. By default this is `0`. For higher values the code outputs more information about the steps it is taking."
   ]
  },
  {
   "cell_type": "code",
   "execution_count": 4,
   "metadata": {},
   "outputs": [
    {
     "name": "stdout",
     "output_type": "stream",
     "text": [
      "A1 matrix =\n",
      " [[1. 2. 3. 3.]\n",
      " [5. 6. 7. 4.]\n",
      " [1. 4. 5. 5.]] \n",
      "\n",
      "Row to subtract from a_1 = [ 5. 10. 15. 15.]\n",
      "Row to subtract from a_2 = [1. 2. 3. 3.]\n",
      "\n",
      "New A1 matrix =\n",
      " [[  1.   2.   3.   3.]\n",
      " [  0.  -4.  -8. -11.]\n",
      " [  0.   2.   2.   2.]] \n",
      "\n",
      "Row to subtract from a_2 = [-0.   2.   4.   5.5]\n",
      "\n",
      "New A1 matrix =\n",
      " [[  1.    2.    3.    3. ]\n",
      " [  0.   -4.   -8.  -11. ]\n",
      " [  0.    0.   -2.   -3.5]] \n",
      "\n",
      "[-0.75 -0.75  1.75]\n"
     ]
    }
   ],
   "source": [
    "x1 = GaussianElimination(A1, b1, 2)\n",
    "print(x1)"
   ]
  },
  {
   "cell_type": "markdown",
   "metadata": {},
   "source": [
    "Check the result, i.e., $A.x - b = 0$"
   ]
  },
  {
   "cell_type": "code",
   "execution_count": 5,
   "metadata": {},
   "outputs": [
    {
     "data": {
      "text/plain": [
       "array([0., 0., 0.])"
      ]
     },
     "execution_count": 5,
     "metadata": {},
     "output_type": "execute_result"
    }
   ],
   "source": [
    "np.dot(A1,x1) - b1"
   ]
  },
  {
   "cell_type": "markdown",
   "metadata": {},
   "source": [
    "The `GaussianElimination()` function works for any size of matrix. Let's test it on a larger one."
   ]
  },
  {
   "cell_type": "code",
   "execution_count": 6,
   "metadata": {},
   "outputs": [
    {
     "name": "stdout",
     "output_type": "stream",
     "text": [
      "A =\n",
      " [[1.3 2.3 3.7 6.4 7.7]\n",
      " [5.  6.  7.  1.4 5.6]\n",
      " [1.  4.  5.  9.4 1.5]\n",
      " [5.6 6.6 3.8 4.5 7.9]\n",
      " [3.4 7.7 8.3 9.1 9.3]]\n",
      "\n",
      "b = [8 4 3 6 9]\n"
     ]
    }
   ],
   "source": [
    "# Define a matrix A, and a vector b\n",
    "A2 = np.array([[1.3, 2.3, 3.7, 6.4, 7.7], [5, 6, 7, 1.4, 5.6], [1, 4, 5, 9.4, 1.5], [5.6, 6.6, 3.8, 4.5, 7.9], [3.4,7.7,8.3,9.1,9.3]], dtype='float') \n",
    "b2 = np.array([8, 4 , 3, 6, 9])\n",
    "\n",
    "# print out A and b (notice that '\\n' creates a new line)\n",
    "print(\"A =\\n\", A2)\n",
    "print(\"\\nb =\", b2)"
   ]
  },
  {
   "cell_type": "code",
   "execution_count": 7,
   "metadata": {},
   "outputs": [
    {
     "name": "stdout",
     "output_type": "stream",
     "text": [
      "A1 matrix =\n",
      " [[1.3 2.3 3.7 6.4 7.7 8. ]\n",
      " [5.  6.  7.  1.4 5.6 4. ]\n",
      " [1.  4.  5.  9.4 1.5 3. ]\n",
      " [5.6 6.6 3.8 4.5 7.9 6. ]\n",
      " [3.4 7.7 8.3 9.1 9.3 9. ]] \n",
      "\n",
      "Row to subtract from a_1 = [ 5.     8.846 14.231 24.615 29.615 30.769]\n",
      "Row to subtract from a_2 = [1.    1.769 2.846 4.923 5.923 6.154]\n",
      "Row to subtract from a_3 = [ 5.6    9.908 15.938 27.569 33.169 34.462]\n",
      "Row to subtract from a_4 = [ 3.4    6.015  9.677 16.738 20.138 20.923]\n",
      "\n",
      "New A1 matrix =\n",
      " [[  1.3     2.3     3.7     6.4     7.7     8.   ]\n",
      " [  0.     -2.846  -7.231 -23.215 -24.015 -26.769]\n",
      " [  0.      2.231   2.154   4.477  -4.423  -3.154]\n",
      " [  0.     -3.308 -12.138 -23.069 -25.269 -28.462]\n",
      " [  0.      1.685  -1.377  -7.638 -10.838 -11.923]] \n",
      "\n",
      "Row to subtract from a_2 = [-0.     2.231  5.667 18.196 18.823 20.981]\n",
      "Row to subtract from a_3 = [  0.     -3.308  -8.403 -26.98  -27.91  -31.11 ]\n",
      "Row to subtract from a_4 = [-0.     1.685  4.28  13.741 14.215 15.844]\n",
      "\n",
      "New A1 matrix =\n",
      " [[  1.3     2.3     3.7     6.4     7.7     8.   ]\n",
      " [  0.     -2.846  -7.231 -23.215 -24.015 -26.769]\n",
      " [  0.      0.     -3.514 -13.719 -23.246 -24.135]\n",
      " [  0.      0.     -3.735   3.911   2.641   2.649]\n",
      " [  0.      0.     -5.657 -21.379 -25.053 -27.768]] \n",
      "\n",
      "Row to subtract from a_3 = [  0.      0.     -3.735 -14.584 -24.712 -25.658]\n",
      "Row to subtract from a_4 = [  0.      0.     -5.657 -22.087 -37.426 -38.858]\n",
      "\n",
      "New A1 matrix =\n",
      " [[  1.3     2.3     3.7     6.4     7.7     8.   ]\n",
      " [  0.     -2.846  -7.231 -23.215 -24.015 -26.769]\n",
      " [  0.      0.     -3.514 -13.719 -23.246 -24.135]\n",
      " [  0.      0.      0.     18.495  27.353  28.306]\n",
      " [  0.      0.      0.      0.708  12.373  11.09 ]] \n",
      "\n",
      "Row to subtract from a_4 = [0.    0.    0.    0.708 1.047 1.084]\n",
      "\n",
      "New A1 matrix =\n",
      " [[  1.3     2.3     3.7     6.4     7.7     8.   ]\n",
      " [  0.     -2.846  -7.231 -23.215 -24.015 -26.769]\n",
      " [  0.      0.     -3.514 -13.719 -23.246 -24.135]\n",
      " [  0.      0.      0.     18.495  27.353  28.306]\n",
      " [  0.      0.      0.      0.     11.326  10.006]] \n",
      "\n",
      "[-0.155 -0.256  0.15   0.224  0.883]\n"
     ]
    }
   ],
   "source": [
    "## The below line sets the output precision when printing numpy arrays\n",
    "np.set_printoptions(precision=3)\n",
    "\n",
    "x2 = GaussianElimination(A2, b2, 2)\n",
    "print(x2)"
   ]
  },
  {
   "cell_type": "code",
   "execution_count": 8,
   "metadata": {},
   "outputs": [
    {
     "data": {
      "text/plain": [
       "array([ 0.000e+00, -1.332e-15, -2.220e-15, -1.776e-15, -7.105e-15])"
      ]
     },
     "execution_count": 8,
     "metadata": {},
     "output_type": "execute_result"
    }
   ],
   "source": [
    "# Check the result\n",
    "np.dot(A2,x2)-b2"
   ]
  },
  {
   "cell_type": "markdown",
   "metadata": {},
   "source": [
    "## Near singular systems of equations\n",
    "\n",
    "When is system of equations is very near singular, i.e., $|A| \\sim$ 1e-16 rounding errors will be introduced and the final result may not be very accurate.\n",
    "\n",
    "Let's look at an example."
   ]
  },
  {
   "cell_type": "code",
   "execution_count": 9,
   "metadata": {},
   "outputs": [],
   "source": [
    "A3 = np.array([[1+1e-14,2,3],[1,2,3],[5,6,8]])\n",
    "b3 = np.array([4,7,5])"
   ]
  },
  {
   "cell_type": "code",
   "execution_count": 10,
   "metadata": {},
   "outputs": [],
   "source": [
    "x3 = GaussianElimination(A3, b3)"
   ]
  },
  {
   "cell_type": "code",
   "execution_count": 11,
   "metadata": {},
   "outputs": [
    {
     "data": {
      "text/plain": [
       "array([ 0.  , -0.25,  0.  ])"
      ]
     },
     "execution_count": 11,
     "metadata": {},
     "output_type": "execute_result"
    }
   ],
   "source": [
    "np.dot(A3,x3) - b3"
   ]
  },
  {
   "cell_type": "markdown",
   "metadata": {},
   "source": [
    "We see that $A.x - b \\neq 0$. This is due to rounding errors."
   ]
  },
  {
   "cell_type": "markdown",
   "metadata": {},
   "source": [
    "# Gaussian Elimination: more efficient version\n",
    "\n",
    "The previous GaussianElimination code is written to enable a verbose output that shows the steps. The code can be made slightly more efficient by only acting on the upper-triangular piece of the matrix.\n",
    "\n",
    "This is the version we analyized in the lectures when discussion the efficiency of the method."
   ]
  },
  {
   "cell_type": "code",
   "execution_count": 12,
   "metadata": {},
   "outputs": [],
   "source": [
    "def GaussianEliminationEfficient(A, b):\n",
    "    n = A.shape[1]\n",
    "    \n",
    "    # Append the vector b as a column to the matrix A\n",
    "    A1 = np.c_[A,b]\n",
    "    \n",
    "    i = 0\n",
    "    while i < n - 1:\n",
    "        j = i+1\n",
    "        while j < n:\n",
    "            A1[j, i+1:] = A1[j, i+1:] - A1[i, i+1:]*A1[j,i]/A1[i,i]\n",
    "            j += 1\n",
    "        i += 1\n",
    "        \n",
    "    x = np.zeros(n)\n",
    "    \n",
    "    i = n-1\n",
    "    while i >= 0:\n",
    "        j = i\n",
    "        x[i] = A1[i,n]\n",
    "        while j < n-1:\n",
    "            x[i] -= A1[i,j+1]*x[j+1]\n",
    "            j += 1\n",
    "        x[i] = x[i]/A1[i,i]\n",
    "        i -= 1\n",
    "    \n",
    "    return x"
   ]
  },
  {
   "cell_type": "code",
   "execution_count": 13,
   "metadata": {},
   "outputs": [
    {
     "name": "stdout",
     "output_type": "stream",
     "text": [
      "A =\n",
      " [[1. 2. 3.]\n",
      " [5. 6. 7.]\n",
      " [1. 4. 5.]]\n",
      "\n",
      "b = [3 4 5]\n",
      "\n",
      "x= [-0.75 -0.75  1.75]\n"
     ]
    }
   ],
   "source": [
    "# Define a matrix A, and a vector b\n",
    "A3 = np.array([[1, 2, 3], [5, 6, 7], [1, 4, 5]], dtype='float')\n",
    "b3 = np.array([3, 4 , 5])\n",
    "\n",
    "# print out A and b (notice that '\\n' creates a new line)\n",
    "print(\"A =\\n\", A3)\n",
    "print(\"\\nb =\", b3)\n",
    "\n",
    "x3 = GaussianEliminationEfficient(A3,b3)\n",
    "print(\"\\nx=\", x3)"
   ]
  },
  {
   "cell_type": "markdown",
   "metadata": {},
   "source": [
    "# Gaussian-Jordan elimination to find inverse matrix\n",
    "\n",
    "The Gaussian elimination codes above find the solution to $Ax = b$.\n",
    "\n",
    "It is not uncoming to have problems where we want to solve the same system with many different $b$'s. In this case it is useful compute $A^{-1}$ once and store it for later calculations.\n",
    "\n",
    "This can be achived by slightly modifying the Gaussian elimination code by appending the identity matrix and then continuing the forward elimination until the left matrix is equal to the identity. To distinguish this from Gaussian elimination (which stops when the matrix is in upper-triangle, or echelon, form) this is often called Gauss-Jordan elimination. \n",
    "\n",
    "The idea behind the method is that if we start with a setup like\n",
    "\n",
    "$$[A]x = [I][b]$$\n",
    "\n",
    "the left-multiplying by $A^{-1}$ gives\n",
    "\n",
    "$$ [A^{-1}] [A] x = [I] x = [A^{-1}][b]$$ \n",
    "\n",
    "So if we perform row operations to bring the first equation to the form of the second (where the matrix has the identity matrix in the first $n$ columns), then the $n+1$ to $2n+1$ columns will contain the inverse matrix. See the lecture notes for more details."
   ]
  },
  {
   "cell_type": "code",
   "execution_count": 81,
   "metadata": {},
   "outputs": [],
   "source": [
    "def MatrixInverseViaGaussianElimination(A):\n",
    "    n = A.shape[1]\n",
    "    \n",
    "    A1 = np.hstack((A,np.identity(n)))\n",
    "    \n",
    "    i = 0\n",
    "    while i < n:\n",
    "        j = 0\n",
    "        while j < n:\n",
    "            if(j == i): \n",
    "                j += 1\n",
    "                continue\n",
    "            A1[j] = (A1[j] - A1[i]*A1[j,i]/A1[i,i])\n",
    "            A1[j] = A1[j]/A1[j,j]\n",
    "            j += 1\n",
    "        i += 1\n",
    "    \n",
    "    return A1[:,n:2*n]"
   ]
  },
  {
   "cell_type": "code",
   "execution_count": 84,
   "metadata": {},
   "outputs": [],
   "source": [
    "A = np.array([[2,1],[6,5]])\n",
    "b = np.array([7,27])\n",
    "\n",
    "InvA = MatrixInverseViaGaussianElimination(A)"
   ]
  },
  {
   "cell_type": "markdown",
   "metadata": {},
   "source": [
    "Check we get the same answer as the Gaussian elimination code"
   ]
  },
  {
   "cell_type": "code",
   "execution_count": 88,
   "metadata": {},
   "outputs": [
    {
     "name": "stdout",
     "output_type": "stream",
     "text": [
      "[2. 3.]\n",
      "[2. 3.]\n"
     ]
    }
   ],
   "source": [
    "print(np.dot(InvA, b))\n",
    "print(GaussianElimination(A,b))"
   ]
  },
  {
   "cell_type": "code",
   "execution_count": null,
   "metadata": {},
   "outputs": [],
   "source": []
  }
 ],
 "metadata": {
  "kernelspec": {
   "display_name": "Python 3",
   "language": "python",
   "name": "python3"
  },
  "language_info": {
   "codemirror_mode": {
    "name": "ipython",
    "version": 3
   },
   "file_extension": ".py",
   "mimetype": "text/x-python",
   "name": "python",
   "nbconvert_exporter": "python",
   "pygments_lexer": "ipython3",
   "version": "3.7.4"
  }
 },
 "nbformat": 4,
 "nbformat_minor": 2
}
