{
 "cells": [
  {
   "cell_type": "markdown",
   "id": "88a8b71b",
   "metadata": {},
   "source": [
    "# PageRank and the power method\n",
    "\n",
    "In the lectures we looked at an interesting usage for the power method for finding the maximum eigenvalue and the associated eigenvector: the PageRank algorithm. This notebook gives an example of the algorithm."
   ]
  },
  {
   "cell_type": "code",
   "execution_count": 6,
   "id": "3468fd81",
   "metadata": {},
   "outputs": [],
   "source": [
    "import numpy as np\n",
    "from numpy import linalg as la"
   ]
  },
  {
   "cell_type": "markdown",
   "id": "c2cedb5f",
   "metadata": {},
   "source": [
    "Load the MaxEigenvalue function: an implementation of the power method."
   ]
  },
  {
   "cell_type": "code",
   "execution_count": 7,
   "id": "bf6e36f7",
   "metadata": {},
   "outputs": [],
   "source": [
    "def MaxEigenvalue(A, err):\n",
    "    (m,n) = A.shape\n",
    "    if(m != n):\n",
    "        print(\"Matrix must be square\")\n",
    "        return\n",
    "    \n",
    "    # Create a random initial vector\n",
    "    x = np.random.rand(m)\n",
    "    \n",
    "    lam = 0.1\n",
    "    lamprev = 1\n",
    "    while np.abs(1-lam/lamprev) > err:\n",
    "        Ax      = A@x\n",
    "        lamprev = lam\n",
    "        lam = la.norm(Ax,2)/la.norm(x,2)\n",
    "        x = Ax\n",
    "        \n",
    "    x = x/la.norm(x)\n",
    "    return (lam,x)"
   ]
  },
  {
   "cell_type": "markdown",
   "id": "523afa2b",
   "metadata": {},
   "source": [
    "In the lectures we consider a mini-network with four nodes and connections between them as follows:\n",
    "\n",
    "<img src=\"images/MiniNetwork.png\" width=\"300px\">\n",
    "\n",
    "We then saw that we cound find a solvable system by weighting the connections by the number of links from each node. We then had to solve problen of the form\n",
    "\n",
    "$$ x = A x$$\n",
    "\n",
    "This is an eigenvalue problem with eigenvalue 1. We also saw that the matrices formed as described above are known as column-stocastic matrices which means:\n",
    "\n",
    "1) They have 1 as an eigenvalue\n",
    "2) The absolute value of all other eigenvalues is less than 1.\n",
    "\n",
    "This 1 is the maximum eigenvalue and we can use the power method to find the associated eigenvector."
   ]
  },
  {
   "cell_type": "code",
   "execution_count": 8,
   "id": "14490f48",
   "metadata": {},
   "outputs": [],
   "source": [
    "A = np.array([[0,0.5,0.5,1/3.],[1,0,0,1/3.],[0,0,0,1/3.],[0,0.5,0.5,0]])"
   ]
  },
  {
   "cell_type": "code",
   "execution_count": 9,
   "id": "7e6b86cc",
   "metadata": {},
   "outputs": [
    {
     "name": "stdout",
     "output_type": "stream",
     "text": [
      "[[0.         0.5        0.5        0.33333333]\n",
      " [1.         0.         0.         0.33333333]\n",
      " [0.         0.         0.         0.33333333]\n",
      " [0.         0.5        0.5        0.        ]]\n"
     ]
    }
   ],
   "source": [
    "print(A)"
   ]
  },
  {
   "cell_type": "code",
   "execution_count": 14,
   "id": "f8cf6296",
   "metadata": {},
   "outputs": [],
   "source": [
    "res = MaxEigenvalue(A,1e-14)"
   ]
  },
  {
   "cell_type": "code",
   "execution_count": 22,
   "id": "6aae9edf",
   "metadata": {},
   "outputs": [
    {
     "name": "stdout",
     "output_type": "stream",
     "text": [
      "The maximum eigenvalue is: 0.9999999999999958\n",
      "The associated eigenvector is: [0.56011203 0.70014004 0.14002801 0.42008403]\n"
     ]
    }
   ],
   "source": [
    "print(\"The maximum eigenvalue is:\", res[0])\n",
    "print(\"The associated eigenvector is:\", res[1])"
   ]
  },
  {
   "cell_type": "markdown",
   "id": "ab1c8a67",
   "metadata": {},
   "source": [
    "From the above results we see that the second node is has the highest associated PageRank."
   ]
  },
  {
   "cell_type": "markdown",
   "id": "2d0200e5",
   "metadata": {},
   "source": [
    "We can also find the eigenvectors from the linear algebra package of NumPy"
   ]
  },
  {
   "cell_type": "code",
   "execution_count": 23,
   "id": "3e2fe4ab",
   "metadata": {
    "scrolled": true
   },
   "outputs": [],
   "source": [
    "eigensystem = la.eig(A)"
   ]
  },
  {
   "cell_type": "code",
   "execution_count": 33,
   "id": "0da32268",
   "metadata": {},
   "outputs": [
    {
     "name": "stdout",
     "output_type": "stream",
     "text": [
      "The eigenvalues of A are given by: [ 1.00000000e+00 -7.88675135e-01 -2.11324865e-01 -2.03356683e-17]\n",
      "The eigenvector of the largest eigenvalue is: [-0.56011203 -0.70014004 -0.14002801 -0.42008403]\n"
     ]
    }
   ],
   "source": [
    "print(\"The eigenvalues of A are given by:\", eigensystem[0])\n",
    "print(\"The eigenvector of the largest eigenvalue is:\", eigensystem[1][:,0])"
   ]
  },
  {
   "cell_type": "code",
   "execution_count": null,
   "id": "985f93d2",
   "metadata": {},
   "outputs": [],
   "source": []
  }
 ],
 "metadata": {
  "kernelspec": {
   "display_name": "Python 3",
   "language": "python",
   "name": "python3"
  },
  "language_info": {
   "codemirror_mode": {
    "name": "ipython",
    "version": 3
   },
   "file_extension": ".py",
   "mimetype": "text/x-python",
   "name": "python",
   "nbconvert_exporter": "python",
   "pygments_lexer": "ipython3",
   "version": "3.7.10"
  }
 },
 "nbformat": 4,
 "nbformat_minor": 5
}
