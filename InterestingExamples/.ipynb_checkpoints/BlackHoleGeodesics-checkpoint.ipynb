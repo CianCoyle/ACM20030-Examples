{
 "cells": [
  {
   "cell_type": "markdown",
   "metadata": {},
   "source": [
    "This notebook demonstrates using SciPy to solve ODEs and Matplotlib for plotting\n",
    "\n",
    "# Geodesics in Schwarzschild spacetime\n",
    "\n",
    "The Schwarzschild spacetime describes an isolated spherically symmetric black hole. The (timelike) geodesic equations give the motion of a test mass around the black hole. In this notebook we give the equations, place them into first-order form, numerically integrate them and then plot the resulting orbit.\n",
    "\n",
    "In this notebook we use geometrized units such that $G = c = 1$. The Schwarzschild black hole has mass $M$, and the Schwarzschild coordinates are $(t,r,\\theta, \\phi)$."
   ]
  },
  {
   "cell_type": "markdown",
   "metadata": {},
   "source": [
    "## Equations of motion \n",
    "\n",
    "Let the coordinates of the test body be denoted by $x^\\mu_p(\\tau) = \\{t_p(\\tau), r_p(\\tau), \\theta_p(\\tau),\\phi_p(\\tau)\\}$ where $\\tau$ is the propertime (propertime is the time as mearsured by a clock movine along with the test body$. Using the Euler-Lagrange equations one can derive the equations of motion a test body in orbit about the black hole. These are given by the ODEs:\n",
    "\n",
    "$$\\begin{align}\n",
    "\\frac{dt}{d\\tau} &= E^2(1-2M/r)^{-1}\\\\\n",
    "\\left(\\frac{dr}{d\\tau}\\right)^2 &= E^2 - \\left(1- \\frac{2M}{r}\\right)\\left(1 + \\frac{L^2}{r^2}\\right)\\\\\n",
    "\\frac{d\\phi}{d\\tau} & = \\frac{L}{r^2}\n",
    "\\end{align}$$\n",
    "\n",
    "where $E$ and $L$ are the energy and angular momentum as measured at infinity.\n",
    "\n",
    "Note due to spherical symmetry, without loss of generality we can set $\\theta=\\pi/2$ and $\\theta$ does not evolve over the orbit."
   ]
  },
  {
   "cell_type": "markdown",
   "metadata": {},
   "source": [
    "## Manipulating the radial equation\n",
    "\n",
    "The radial equation above is written in terms of first-order derivaties but it is not especially useful for numerical integration. That is because to use it you have to take a square root, which brings with it a $\\pm$. The plus represents the outgoing motion from periastron to apastron, and the minus the ingoing motion. Switching between these two is difficult numerically.\n",
    "\n",
    "A nice solution is to take a derviative of the whole radial equation w.r.t. $\\tau$. This results in a second-order differenential equation which removes the troublesome $r'(\\tau)$ term. The result of this operation is:\n",
    "\n",
    "$$\\frac{d^2r}{d\\tau^2} = \\frac{L^2(r-3M)}{r^4} - \\frac{M}{r^2}$$\n",
    "\n",
    "In order to numerically integrate this equation we now need to write this in first-order form. \n",
    "To do this we introduce $r_1 = dr/d\\tau$, then the above equation can be written as two coupled first-order equations:\n",
    "\n",
    "$$\\begin{align}\n",
    "   \\frac{dr}{d\\tau}   &= r_1 \\\\\n",
    "   \\frac{dr_1}{d\\tau} &= \\frac{L^2(r-3M)}{r^4} - \\frac{M}{r^2}\n",
    "\\end{align}$$"
   ]
  },
  {
   "cell_type": "markdown",
   "metadata": {},
   "source": [
    "## The systems of equations and initial conditions\n",
    "\n",
    "In order to plot the orbital trajectory we only need the $r(\\tau)$ an $\\phi(\\tau)$ solutions. This makes our set of ODEs:\n",
    "\n",
    "$$\\begin{align}\n",
    "   \\frac{dr}{d\\tau}   &= r_1 \\\\\n",
    "   \\frac{dr_1}{d\\tau} &= \\frac{L^2(r-3M)}{r^4} - \\frac{M}{r^2} \\\\\n",
    "   \\frac{d\\phi}{d\\tau} & = \\frac{L}{r^2}\n",
    "\\end{align}$$\n",
    "\n",
    "In order to solve these equations we need to specify the initial conditions at $\\tau = \\tau_0 $. Without loss of generality we will take $\\tau_0 = 0$. We can define $r_0 \\equiv r_0$ and $\\phi(0) \\equiv \\phi_0$. Again, w.l.o.g we can take $\\phi_0 = 0$.\n",
    "\n",
    "What about $r_1(0) = dr/d\\tau(0) \\equiv u^r_0$. For this we can use the original version of the radial equation. Thus we have\n",
    "\n",
    "$$ u^r_0 = \\pm\\sqrt{E^2 - \\left(1- \\frac{2M}{r}\\right)\\left(1 + \\frac{L^2}{r^2}\\right)}$$"
   ]
  },
  {
   "cell_type": "markdown",
   "metadata": {},
   "source": [
    "# The energy and angular-momentum\n",
    "\n",
    "We will now restrict out attention to bound orbits which have a minimum and maximum radius which we denote by $r_\\min/r_\\max$, respectively. We can further define two geometric quantities, the semi-latus rectum, $p$, and the orbital eccentricity, $e$. This are given by\n",
    "\n",
    "$$ p \\equiv \\frac{2r_\\max r_\\min}{M(r_\\max + r_\\min)},\\qquad e \\equiv \\frac{r_\\max - r_\\min}{r_\\max + r_\\min}$$\n",
    "\n",
    "Inverting these equations we get\n",
    "\n",
    "$$ r_\\max = \\frac{p}{1-e},\\qquad r_\\min = \\frac{p}{1+e}$$\n",
    "\n",
    "By looking at the effective potential, the energy and angular momentum can be written in terms of $(p,e)$. This gives\n",
    "\n",
    "$$ E = \\sqrt{\\frac{(p-2-2e)(p-2+2e)}{p(p-3-e^2)}}, \\qquad L = \\sqrt{\\frac{p^2 M^2}{p-3-e^2}}$$"
   ]
  },
  {
   "cell_type": "markdown",
   "metadata": {},
   "source": [
    "# Writing the code\n",
    "\n",
    "We now want to write a code to compute the orbital trajectory. To do this we need to write a function that given $p$ and $e$:\n",
    "\n",
    "1) computes $(E,L)$  \n",
    "2) computes $u^r_0$  \n",
    "3) integrates the ODEs  \n",
    "4) plots the result  \n",
    "\n",
    "In order to plot the results we define the cartesian coordinates via:\n",
    "\n",
    "$$ x(\\tau) = r(\\tau) \\cos[\\phi(\\tau)], \\qquad y(\\tau) = r(\\tau) \\sin[\\phi(\\tau)]$$\n",
    "\n",
    "Next we load the libraries we will need and write the function that computes the geodesic and plots its spatial trajectory. Hereafter we will set $M=1$."
   ]
  },
  {
   "cell_type": "code",
   "execution_count": 1,
   "metadata": {},
   "outputs": [],
   "source": [
    "from scipy.integrate import solve_ivp\n",
    "import numpy as np\n",
    "import matplotlib.pyplot as plt"
   ]
  },
  {
   "cell_type": "code",
   "execution_count": 2,
   "metadata": {},
   "outputs": [],
   "source": [
    "# Define the geodesic equations\n",
    "def geodesicEqs(tau, y, L):\n",
    "    r   = y[0]\n",
    "    r1  = y[1]  \n",
    "    \n",
    "    dr  = r1\n",
    "    dr1 = L**2*(r - 3)/r**4 - 1/r**2\n",
    "    \n",
    "    dphi = L/r**2\n",
    "    \n",
    "    \n",
    "    return [dr, dr1, dphi]"
   ]
  },
  {
   "cell_type": "code",
   "execution_count": 3,
   "metadata": {},
   "outputs": [],
   "source": [
    "def plotGeodesic(p, e, tau_max):\n",
    "    \n",
    "    # Compute the energy and angular momentum\n",
    "    E = np.sqrt((p-2-2*e)*(p-2+2*e)/(p*(p-3-e**2)))\n",
    "    L = np.sqrt(p**2/(p-3-e**2))\n",
    "    \n",
    "    # The initial conditions\n",
    "    # Pick an r0 value between rmin and rmax\n",
    "    r0 = p\n",
    "    phi0 = 0\n",
    "    \n",
    "    # Calculate the initial value of the radial four-velocity\n",
    "    ur0 = - np.sqrt(E**2 - (1-2/r0)*(L**2/r0**2 + 1) )\n",
    "    \n",
    "    # solve the geodesics with solve_ivp from SciPy\n",
    "    sol = solve_ivp(geodesicEqs, [0, tau_max], [r0, ur0, 0], args = [L], t_eval = np.arange(0, tau_max, 1))\n",
    "        \n",
    "    rVals = sol.y[0]\n",
    "    phiVals = sol.y[2]\n",
    "\n",
    "    xVals = rVals*np.cos(phiVals)\n",
    "    yVals = rVals*np.sin(phiVals)\n",
    "    \n",
    "    # Set the figure size\n",
    "    plt.figure(figsize = (15,15))\n",
    "\n",
    "    # Ensure the entire trajectory will be visible\n",
    "    rmax = p/(1-e)\n",
    "\n",
    "    plt.xlim(-rmax-1, rmax+1)\n",
    "    plt.ylim(-rmax-1, rmax+1)\n",
    "    \n",
    "    # Draw a black disk for the black hole. The Schwarzschild radius is r_s = 2M.\n",
    "    circle1 = plt.Circle((0, 0), 2, color='k')\n",
    "    plt.gcf().gca().add_artist(circle1)\n",
    "    \n",
    "    # Plot the trajectory\n",
    "    plt.plot(xVals, yVals)\n",
    "    "
   ]
  },
  {
   "cell_type": "code",
   "execution_count": 4,
   "metadata": {},
   "outputs": [
    {
     "name": "stderr",
     "output_type": "stream",
     "text": [
      "C:\\Users\\cianf\\Anaconda3\\lib\\site-packages\\scipy\\integrate\\_ivp\\common.py:41: UserWarning: The following arguments have no effect for a chosen solver: `args`.\n",
      "  .format(\", \".join(\"`{}`\".format(x) for x in extraneous)))\n"
     ]
    },
    {
     "ename": "TypeError",
     "evalue": "geodesicEqs() missing 1 required positional argument: 'L'",
     "output_type": "error",
     "traceback": [
      "\u001b[1;31m---------------------------------------------------------------------------\u001b[0m",
      "\u001b[1;31mTypeError\u001b[0m                                 Traceback (most recent call last)",
      "\u001b[1;32m<ipython-input-4-07d1ef50fb99>\u001b[0m in \u001b[0;36m<module>\u001b[1;34m\u001b[0m\n\u001b[1;32m----> 1\u001b[1;33m \u001b[0mplotGeodesic\u001b[0m\u001b[1;33m(\u001b[0m\u001b[1;36m8\u001b[0m\u001b[1;33m,\u001b[0m\u001b[1;36m0.5\u001b[0m\u001b[1;33m,\u001b[0m\u001b[1;36m1000\u001b[0m\u001b[1;33m)\u001b[0m\u001b[1;33m\u001b[0m\u001b[1;33m\u001b[0m\u001b[0m\n\u001b[0m",
      "\u001b[1;32m<ipython-input-3-9cac368b0eae>\u001b[0m in \u001b[0;36mplotGeodesic\u001b[1;34m(p, e, tau_max)\u001b[0m\n\u001b[0;32m     14\u001b[0m \u001b[1;33m\u001b[0m\u001b[0m\n\u001b[0;32m     15\u001b[0m     \u001b[1;31m# solve the geodesics with solve_ivp from SciPy\u001b[0m\u001b[1;33m\u001b[0m\u001b[1;33m\u001b[0m\u001b[1;33m\u001b[0m\u001b[0m\n\u001b[1;32m---> 16\u001b[1;33m     \u001b[0msol\u001b[0m \u001b[1;33m=\u001b[0m \u001b[0msolve_ivp\u001b[0m\u001b[1;33m(\u001b[0m\u001b[0mgeodesicEqs\u001b[0m\u001b[1;33m,\u001b[0m \u001b[1;33m[\u001b[0m\u001b[1;36m0\u001b[0m\u001b[1;33m,\u001b[0m \u001b[0mtau_max\u001b[0m\u001b[1;33m]\u001b[0m\u001b[1;33m,\u001b[0m \u001b[1;33m[\u001b[0m\u001b[0mr0\u001b[0m\u001b[1;33m,\u001b[0m \u001b[0mur0\u001b[0m\u001b[1;33m,\u001b[0m \u001b[1;36m0\u001b[0m\u001b[1;33m]\u001b[0m\u001b[1;33m,\u001b[0m \u001b[0margs\u001b[0m \u001b[1;33m=\u001b[0m \u001b[1;33m[\u001b[0m\u001b[0mL\u001b[0m\u001b[1;33m]\u001b[0m\u001b[1;33m,\u001b[0m \u001b[0mt_eval\u001b[0m \u001b[1;33m=\u001b[0m \u001b[0mnp\u001b[0m\u001b[1;33m.\u001b[0m\u001b[0marange\u001b[0m\u001b[1;33m(\u001b[0m\u001b[1;36m0\u001b[0m\u001b[1;33m,\u001b[0m \u001b[0mtau_max\u001b[0m\u001b[1;33m,\u001b[0m \u001b[1;36m1\u001b[0m\u001b[1;33m)\u001b[0m\u001b[1;33m)\u001b[0m\u001b[1;33m\u001b[0m\u001b[1;33m\u001b[0m\u001b[0m\n\u001b[0m\u001b[0;32m     17\u001b[0m \u001b[1;33m\u001b[0m\u001b[0m\n\u001b[0;32m     18\u001b[0m     \u001b[0mrVals\u001b[0m \u001b[1;33m=\u001b[0m \u001b[0msol\u001b[0m\u001b[1;33m.\u001b[0m\u001b[0my\u001b[0m\u001b[1;33m[\u001b[0m\u001b[1;36m0\u001b[0m\u001b[1;33m]\u001b[0m\u001b[1;33m\u001b[0m\u001b[1;33m\u001b[0m\u001b[0m\n",
      "\u001b[1;32m~\\Anaconda3\\lib\\site-packages\\scipy\\integrate\\_ivp\\ivp.py\u001b[0m in \u001b[0;36msolve_ivp\u001b[1;34m(fun, t_span, y0, method, t_eval, dense_output, events, vectorized, **options)\u001b[0m\n\u001b[0;32m    475\u001b[0m         \u001b[0mmethod\u001b[0m \u001b[1;33m=\u001b[0m \u001b[0mMETHODS\u001b[0m\u001b[1;33m[\u001b[0m\u001b[0mmethod\u001b[0m\u001b[1;33m]\u001b[0m\u001b[1;33m\u001b[0m\u001b[1;33m\u001b[0m\u001b[0m\n\u001b[0;32m    476\u001b[0m \u001b[1;33m\u001b[0m\u001b[0m\n\u001b[1;32m--> 477\u001b[1;33m     \u001b[0msolver\u001b[0m \u001b[1;33m=\u001b[0m \u001b[0mmethod\u001b[0m\u001b[1;33m(\u001b[0m\u001b[0mfun\u001b[0m\u001b[1;33m,\u001b[0m \u001b[0mt0\u001b[0m\u001b[1;33m,\u001b[0m \u001b[0my0\u001b[0m\u001b[1;33m,\u001b[0m \u001b[0mtf\u001b[0m\u001b[1;33m,\u001b[0m \u001b[0mvectorized\u001b[0m\u001b[1;33m=\u001b[0m\u001b[0mvectorized\u001b[0m\u001b[1;33m,\u001b[0m \u001b[1;33m**\u001b[0m\u001b[0moptions\u001b[0m\u001b[1;33m)\u001b[0m\u001b[1;33m\u001b[0m\u001b[1;33m\u001b[0m\u001b[0m\n\u001b[0m\u001b[0;32m    478\u001b[0m \u001b[1;33m\u001b[0m\u001b[0m\n\u001b[0;32m    479\u001b[0m     \u001b[1;32mif\u001b[0m \u001b[0mt_eval\u001b[0m \u001b[1;32mis\u001b[0m \u001b[1;32mNone\u001b[0m\u001b[1;33m:\u001b[0m\u001b[1;33m\u001b[0m\u001b[1;33m\u001b[0m\u001b[0m\n",
      "\u001b[1;32m~\\Anaconda3\\lib\\site-packages\\scipy\\integrate\\_ivp\\rk.py\u001b[0m in \u001b[0;36m__init__\u001b[1;34m(self, fun, t0, y0, t_bound, max_step, rtol, atol, vectorized, first_step, **extraneous)\u001b[0m\n\u001b[0;32m     98\u001b[0m         \u001b[0mself\u001b[0m\u001b[1;33m.\u001b[0m\u001b[0mmax_step\u001b[0m \u001b[1;33m=\u001b[0m \u001b[0mvalidate_max_step\u001b[0m\u001b[1;33m(\u001b[0m\u001b[0mmax_step\u001b[0m\u001b[1;33m)\u001b[0m\u001b[1;33m\u001b[0m\u001b[1;33m\u001b[0m\u001b[0m\n\u001b[0;32m     99\u001b[0m         \u001b[0mself\u001b[0m\u001b[1;33m.\u001b[0m\u001b[0mrtol\u001b[0m\u001b[1;33m,\u001b[0m \u001b[0mself\u001b[0m\u001b[1;33m.\u001b[0m\u001b[0matol\u001b[0m \u001b[1;33m=\u001b[0m \u001b[0mvalidate_tol\u001b[0m\u001b[1;33m(\u001b[0m\u001b[0mrtol\u001b[0m\u001b[1;33m,\u001b[0m \u001b[0matol\u001b[0m\u001b[1;33m,\u001b[0m \u001b[0mself\u001b[0m\u001b[1;33m.\u001b[0m\u001b[0mn\u001b[0m\u001b[1;33m)\u001b[0m\u001b[1;33m\u001b[0m\u001b[1;33m\u001b[0m\u001b[0m\n\u001b[1;32m--> 100\u001b[1;33m         \u001b[0mself\u001b[0m\u001b[1;33m.\u001b[0m\u001b[0mf\u001b[0m \u001b[1;33m=\u001b[0m \u001b[0mself\u001b[0m\u001b[1;33m.\u001b[0m\u001b[0mfun\u001b[0m\u001b[1;33m(\u001b[0m\u001b[0mself\u001b[0m\u001b[1;33m.\u001b[0m\u001b[0mt\u001b[0m\u001b[1;33m,\u001b[0m \u001b[0mself\u001b[0m\u001b[1;33m.\u001b[0m\u001b[0my\u001b[0m\u001b[1;33m)\u001b[0m\u001b[1;33m\u001b[0m\u001b[1;33m\u001b[0m\u001b[0m\n\u001b[0m\u001b[0;32m    101\u001b[0m         \u001b[1;32mif\u001b[0m \u001b[0mfirst_step\u001b[0m \u001b[1;32mis\u001b[0m \u001b[1;32mNone\u001b[0m\u001b[1;33m:\u001b[0m\u001b[1;33m\u001b[0m\u001b[1;33m\u001b[0m\u001b[0m\n\u001b[0;32m    102\u001b[0m             self.h_abs = select_initial_step(\n",
      "\u001b[1;32m~\\Anaconda3\\lib\\site-packages\\scipy\\integrate\\_ivp\\base.py\u001b[0m in \u001b[0;36mfun\u001b[1;34m(t, y)\u001b[0m\n\u001b[0;32m    137\u001b[0m         \u001b[1;32mdef\u001b[0m \u001b[0mfun\u001b[0m\u001b[1;33m(\u001b[0m\u001b[0mt\u001b[0m\u001b[1;33m,\u001b[0m \u001b[0my\u001b[0m\u001b[1;33m)\u001b[0m\u001b[1;33m:\u001b[0m\u001b[1;33m\u001b[0m\u001b[1;33m\u001b[0m\u001b[0m\n\u001b[0;32m    138\u001b[0m             \u001b[0mself\u001b[0m\u001b[1;33m.\u001b[0m\u001b[0mnfev\u001b[0m \u001b[1;33m+=\u001b[0m \u001b[1;36m1\u001b[0m\u001b[1;33m\u001b[0m\u001b[1;33m\u001b[0m\u001b[0m\n\u001b[1;32m--> 139\u001b[1;33m             \u001b[1;32mreturn\u001b[0m \u001b[0mself\u001b[0m\u001b[1;33m.\u001b[0m\u001b[0mfun_single\u001b[0m\u001b[1;33m(\u001b[0m\u001b[0mt\u001b[0m\u001b[1;33m,\u001b[0m \u001b[0my\u001b[0m\u001b[1;33m)\u001b[0m\u001b[1;33m\u001b[0m\u001b[1;33m\u001b[0m\u001b[0m\n\u001b[0m\u001b[0;32m    140\u001b[0m \u001b[1;33m\u001b[0m\u001b[0m\n\u001b[0;32m    141\u001b[0m         \u001b[0mself\u001b[0m\u001b[1;33m.\u001b[0m\u001b[0mfun\u001b[0m \u001b[1;33m=\u001b[0m \u001b[0mfun\u001b[0m\u001b[1;33m\u001b[0m\u001b[1;33m\u001b[0m\u001b[0m\n",
      "\u001b[1;32m~\\Anaconda3\\lib\\site-packages\\scipy\\integrate\\_ivp\\base.py\u001b[0m in \u001b[0;36mfun_wrapped\u001b[1;34m(t, y)\u001b[0m\n\u001b[0;32m     19\u001b[0m \u001b[1;33m\u001b[0m\u001b[0m\n\u001b[0;32m     20\u001b[0m     \u001b[1;32mdef\u001b[0m \u001b[0mfun_wrapped\u001b[0m\u001b[1;33m(\u001b[0m\u001b[0mt\u001b[0m\u001b[1;33m,\u001b[0m \u001b[0my\u001b[0m\u001b[1;33m)\u001b[0m\u001b[1;33m:\u001b[0m\u001b[1;33m\u001b[0m\u001b[1;33m\u001b[0m\u001b[0m\n\u001b[1;32m---> 21\u001b[1;33m         \u001b[1;32mreturn\u001b[0m \u001b[0mnp\u001b[0m\u001b[1;33m.\u001b[0m\u001b[0masarray\u001b[0m\u001b[1;33m(\u001b[0m\u001b[0mfun\u001b[0m\u001b[1;33m(\u001b[0m\u001b[0mt\u001b[0m\u001b[1;33m,\u001b[0m \u001b[0my\u001b[0m\u001b[1;33m)\u001b[0m\u001b[1;33m,\u001b[0m \u001b[0mdtype\u001b[0m\u001b[1;33m=\u001b[0m\u001b[0mdtype\u001b[0m\u001b[1;33m)\u001b[0m\u001b[1;33m\u001b[0m\u001b[1;33m\u001b[0m\u001b[0m\n\u001b[0m\u001b[0;32m     22\u001b[0m \u001b[1;33m\u001b[0m\u001b[0m\n\u001b[0;32m     23\u001b[0m     \u001b[1;32mreturn\u001b[0m \u001b[0mfun_wrapped\u001b[0m\u001b[1;33m,\u001b[0m \u001b[0my0\u001b[0m\u001b[1;33m\u001b[0m\u001b[1;33m\u001b[0m\u001b[0m\n",
      "\u001b[1;31mTypeError\u001b[0m: geodesicEqs() missing 1 required positional argument: 'L'"
     ]
    }
   ],
   "source": [
    "plotGeodesic(8,0.5,1000)"
   ]
  },
  {
   "cell_type": "code",
   "execution_count": null,
   "metadata": {},
   "outputs": [],
   "source": []
  }
 ],
 "metadata": {
  "kernelspec": {
   "display_name": "Python 3",
   "language": "python",
   "name": "python3"
  },
  "language_info": {
   "codemirror_mode": {
    "name": "ipython",
    "version": 3
   },
   "file_extension": ".py",
   "mimetype": "text/x-python",
   "name": "python",
   "nbconvert_exporter": "python",
   "pygments_lexer": "ipython3",
   "version": "3.7.4"
  }
 },
 "nbformat": 4,
 "nbformat_minor": 2
}
